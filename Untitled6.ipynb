{
  "nbformat": 4,
  "nbformat_minor": 0,
  "metadata": {
    "colab": {
      "name": "Untitled6.ipynb",
      "provenance": [],
      "collapsed_sections": [],
      "authorship_tag": "ABX9TyNb3mZn315XXvTBpYFMtA8b",
      "include_colab_link": true
    },
    "kernelspec": {
      "name": "python3",
      "display_name": "Python 3"
    }
  },
  "cells": [
    {
      "cell_type": "markdown",
      "metadata": {
        "id": "view-in-github",
        "colab_type": "text"
      },
      "source": [
        "<a href=\"https://colab.research.google.com/github/sergeystarsky/Python/blob/master/Untitled6.ipynb\" target=\"_parent\"><img src=\"https://colab.research.google.com/assets/colab-badge.svg\" alt=\"Open In Colab\"/></a>"
      ]
    },
    {
      "cell_type": "code",
      "metadata": {
        "id": "bYTMKAY_6kcv",
        "colab_type": "code",
        "colab": {}
      },
      "source": [
        ""
      ],
      "execution_count": 0,
      "outputs": []
    },
    {
      "cell_type": "code",
      "metadata": {
        "id": "46O_bCEbiZYa",
        "colab_type": "code",
        "colab": {
          "base_uri": "https://localhost:8080/",
          "height": 85
        },
        "outputId": "90081296-a17f-4fcc-9d8d-f4da00cc9582"
      },
      "source": [
        "#контест 1 / простой калькулятор  \n",
        "N= int(input())\n",
        "Op= input( )\n",
        "M= int(input())\n",
        "if Op == '+':\n",
        " print (N+M)\n",
        "elif Op=='-':\n",
        "  print(N-M)\n",
        "elif Op== '*':\n",
        "  print(N*M)\n",
        "elif Op =='//' and M ==0 :\n",
        "  print('Error')\n",
        "elif Op == '//' :\n",
        "  print(N//M)\n"
      ],
      "execution_count": 11,
      "outputs": [
        {
          "output_type": "stream",
          "text": [
            "6\n",
            "//\n",
            "0\n",
            "Error\n"
          ],
          "name": "stdout"
        }
      ]
    },
    {
      "cell_type": "code",
      "metadata": {
        "id": "8kFNt6TWHQSk",
        "colab_type": "code",
        "colab": {
          "base_uri": "https://localhost:8080/",
          "height": 51
        },
        "outputId": "37b2ae21-5776-49d9-8f21-ea8cebc72271"
      },
      "source": [
        "#контест 1/ Дробная часть\n",
        "from math import *\n",
        "x= float(input())\n",
        "d = x - floor(x)\n",
        "print (abs(d))\n"
      ],
      "execution_count": 15,
      "outputs": [
        {
          "output_type": "stream",
          "text": [
            "3.15\n",
            "0.1499999999999999\n"
          ],
          "name": "stdout"
        }
      ]
    },
    {
      "cell_type": "code",
      "metadata": {
        "id": "vBhn-sh0JBna",
        "colab_type": "code",
        "colab": {
          "base_uri": "https://localhost:8080/",
          "height": 119
        },
        "outputId": "a93eede7-08a1-4f56-8ba5-236d027b0e9d"
      },
      "source": [
        "N =int(input())\n",
        "a= int(0)\n",
        "for i in range (1, N+1):\n",
        "  a=int(input())\n",
        "  s=a*2\n",
        "  if a==0:\n",
        "   break\n",
        "  else:\n",
        "    print(s)\n",
        "  "
      ],
      "execution_count": 2,
      "outputs": [
        {
          "output_type": "stream",
          "text": [
            "5\n",
            "1\n",
            "2\n",
            "2\n",
            "4\n",
            "0\n"
          ],
          "name": "stdout"
        }
      ]
    },
    {
      "cell_type": "code",
      "metadata": {
        "id": "9gOWAshZEbnF",
        "colab_type": "code",
        "colab": {
          "base_uri": "https://localhost:8080/",
          "height": 102
        },
        "outputId": "85ddeafc-0d93-43b8-d868-48c1747f8cd1"
      },
      "source": [
        "#контест 1/ Расчет стоимости\n",
        "p1 =int(input())\n",
        "k1=int(input())\n",
        "p2=int(input())\n",
        "k2=int(input())\n",
        "\n",
        "k3 =k1+k2\n",
        "p3=k3//100\n",
        "k4=k3-p3*100\n",
        "print(p1+p2+p3, k4)\n",
        "  "
      ],
      "execution_count": 7,
      "outputs": [
        {
          "output_type": "stream",
          "text": [
            "1\n",
            "50\n",
            "2\n",
            "53\n",
            "4 3\n"
          ],
          "name": "stdout"
        }
      ]
    },
    {
      "cell_type": "code",
      "metadata": {
        "id": "dszHFvqQKIcB",
        "colab_type": "code",
        "colab": {
          "base_uri": "https://localhost:8080/",
          "height": 85
        },
        "outputId": "9b21d756-c97f-4938-9de2-c18abf87d60e"
      },
      "source": [
        "#контест1/Магазин\n",
        "N = int(input())\n",
        "M = int(input())\n",
        "K = int(input())\n",
        "\n",
        "if N<=K<=M-1 :\n",
        "  print('True')\n",
        "\n",
        "else:\n",
        "    print('False')\n",
        "  "
      ],
      "execution_count": 17,
      "outputs": [
        {
          "output_type": "stream",
          "text": [
            "1\n",
            "5\n",
            "3\n",
            "True\n"
          ],
          "name": "stdout"
        }
      ]
    },
    {
      "cell_type": "code",
      "metadata": {
        "id": "0oeFOJ4GN2pW",
        "colab_type": "code",
        "colab": {
          "base_uri": "https://localhost:8080/",
          "height": 119
        },
        "outputId": "4d45c849-491d-4fd2-e9e4-7fc7dde4a3bd"
      },
      "source": [
        "#контест1/Подсчет наименьших элементов\n",
        "N = int(input())\n",
        "min_number = N\n",
        "while N != 0:\n",
        "  if min_number>N:\n",
        "    min_number =  N\n",
        "    min_number=min_number+N\n",
        "  N = int(input())\n",
        "print(min_number, min_number)\n"
      ],
      "execution_count": 86,
      "outputs": [
        {
          "output_type": "stream",
          "text": [
            "1\n",
            "2\n",
            "3\n",
            "1\n",
            "0\n",
            "1 1\n"
          ],
          "name": "stdout"
        }
      ]
    },
    {
      "cell_type": "code",
      "metadata": {
        "id": "ldADbH2obIq4",
        "colab_type": "code",
        "colab": {
          "base_uri": "https://localhost:8080/",
          "height": 68
        },
        "outputId": "0e4ed367-8257-4e8c-e212-6fad5735b9a8"
      },
      "source": [
        "a =int(input())\n",
        "b =int(input())\n",
        "print(min(a,b))"
      ],
      "execution_count": 43,
      "outputs": [
        {
          "output_type": "stream",
          "text": [
            "1\n",
            "2\n",
            "1\n"
          ],
          "name": "stdout"
        }
      ]
    },
    {
      "cell_type": "code",
      "metadata": {
        "id": "5S0IKLa-SfJa",
        "colab_type": "code",
        "outputId": "8aa317c9-f06a-4eb7-e7b8-e6c0d3108332",
        "colab": {
          "base_uri": "https://localhost:8080/",
          "height": 119
        }
      },
      "source": [
        "number = int(input())\n",
        "max_number = number\n",
        "while number != 0:\n",
        "  if max_number > number:\n",
        "    max_number = number\n",
        " number = int(input())\n",
        "print(max_number)"
      ],
      "execution_count": 61,
      "outputs": [
        {
          "output_type": "stream",
          "text": [
            "5\n",
            "12\n",
            "3\n",
            "1\n",
            "0\n",
            "1\n"
          ],
          "name": "stdout"
        }
      ]
    },
    {
      "cell_type": "code",
      "metadata": {
        "id": "lYBQjOhAqkmh",
        "colab_type": "code",
        "colab": {
          "base_uri": "https://localhost:8080/",
          "height": 204
        },
        "outputId": "3ae895d8-983b-4d40-cad8-00c956c796a3"
      },
      "source": [
        "#контест1/Квадрат\n",
        "N = int(input())\n",
        "a= int(0)\n",
        "for i in range(1, N+1):\n",
        "    a=i*i\n",
        "    if a<=N:\n",
        "     print(a)\n",
        "\n",
        "\n",
        "\n"
      ],
      "execution_count": 39,
      "outputs": [
        {
          "output_type": "stream",
          "text": [
            "100\n",
            "1\n",
            "4\n",
            "9\n",
            "16\n",
            "25\n",
            "36\n",
            "49\n",
            "64\n",
            "81\n",
            "100\n"
          ],
          "name": "stdout"
        }
      ]
    },
    {
      "cell_type": "code",
      "metadata": {
        "id": "D374-hR6xPMF",
        "colab_type": "code",
        "colab": {
          "base_uri": "https://localhost:8080/",
          "height": 306
        },
        "outputId": "3115eff3-8d25-47de-b2fd-9987e38abc17"
      },
      "source": [
        "#контест1/Fizz Buzz\n",
        "\n",
        "N=int(input())\n",
        "a= int(0)\n",
        "while a<N:\n",
        "    a+=1\n",
        "    if a%3 ==0 and a%5!=0 and a%15!=0:\n",
        "     print('Fizz')\n",
        "    elif a%5 ==0 and a%3!=0 and a%15!=0:\n",
        "       print('Buzz')\n",
        "    elif a%15 ==0 :\n",
        "        print('Fizz Buzz')\n",
        "    else:   \n",
        "      print(a)  "
      ],
      "execution_count": 53,
      "outputs": [
        {
          "output_type": "stream",
          "text": [
            "16\n",
            "1\n",
            "2\n",
            "Fizz\n",
            "4\n",
            "Buzz\n",
            "Fizz\n",
            "7\n",
            "8\n",
            "Fizz\n",
            "Buzz\n",
            "11\n",
            "Fizz\n",
            "13\n",
            "14\n",
            "Fizz Buzz\n",
            "16\n"
          ],
          "name": "stdout"
        }
      ]
    }
  ]
}