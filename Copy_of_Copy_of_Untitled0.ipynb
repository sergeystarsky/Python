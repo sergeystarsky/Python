{
  "nbformat": 4,
  "nbformat_minor": 0,
  "metadata": {
    "colab": {
      "name": "Copy of Copy of Untitled0.ipynb",
      "provenance": [],
      "private_outputs": true,
      "collapsed_sections": [],
      "include_colab_link": true
    },
    "kernelspec": {
      "name": "python2",
      "display_name": "Python 2"
    }
  },
  "cells": [
    {
      "cell_type": "markdown",
      "metadata": {
        "id": "view-in-github",
        "colab_type": "text"
      },
      "source": [
        "<a href=\"https://colab.research.google.com/github/sergeystarsky/Python/blob/master/Copy_of_Copy_of_Untitled0.ipynb\" target=\"_parent\"><img src=\"https://colab.research.google.com/assets/colab-badge.svg\" alt=\"Open In Colab\"/></a>"
      ]
    },
    {
      "cell_type": "code",
      "metadata": {
        "id": "RVbm1lie-GhB",
        "colab_type": "code",
        "colab": {}
      },
      "source": [
        "a = int(input())\n",
        " while a <= 9:\n",
        "if a == 0:\n",
        "    print (\" \")\n",
        "  else:\n",
        "   \n",
        "    print (a, a * 2)\n",
        "    a = int(input())\n",
        "    "
      ],
      "execution_count": 0,
      "outputs": []
    },
    {
      "cell_type": "code",
      "metadata": {
        "id": "Ma52kK_7gKXs",
        "colab_type": "code",
        "colab": {}
      },
      "source": [
        ""
      ],
      "execution_count": 0,
      "outputs": []
    },
    {
      "cell_type": "code",
      "metadata": {
        "id": "MXmelbLFeozi",
        "colab_type": "code",
        "colab": {}
      },
      "source": [
        ""
      ],
      "execution_count": 0,
      "outputs": []
    },
    {
      "cell_type": "code",
      "metadata": {
        "id": "tjTmCeg6MIs9",
        "colab_type": "code",
        "colab": {}
      },
      "source": [
        ""
      ],
      "execution_count": 0,
      "outputs": []
    },
    {
      "cell_type": "code",
      "metadata": {
        "id": "Millk2XFXJK4",
        "colab_type": "code",
        "colab": {}
      },
      "source": [
        "x = int(input())\n",
        "if x > 0:\n",
        "    print(x)\n",
        "else:\n",
        "    print(-x)"
      ],
      "execution_count": 0,
      "outputs": []
    },
    {
      "cell_type": "code",
      "metadata": {
        "id": "-tKYGKCDaZdP",
        "colab_type": "code",
        "colab": {}
      },
      "source": [
        "x = int(input())\n",
        "if x < 0:\n",
        "    x = -x\n",
        "print(x)"
      ],
      "execution_count": 0,
      "outputs": []
    },
    {
      "cell_type": "code",
      "metadata": {
        "id": "8ISGxLLjMKAW",
        "colab_type": "code",
        "colab": {}
      },
      "source": [
        "a = int(input())\n",
        "b = int(input())\n",
        "if a < b:\n",
        "      print (a)\n",
        "else:\n",
        "      print(b)"
      ],
      "execution_count": 0,
      "outputs": []
    },
    {
      "cell_type": "code",
      "metadata": {
        "id": "od7l0c06NaJ6",
        "colab_type": "code",
        "colab": {}
      },
      "source": [
        "x = int(input())\n",
        "if x > 0:\n",
        "    print (\"sign(Х)=1\")\n",
        "elif x < 0:\n",
        "    print (\"sign(Х)= -1\")\n",
        "else:\n",
        "    print(\"sign(X)=0\")"
      ],
      "execution_count": 0,
      "outputs": []
    },
    {
      "cell_type": "code",
      "metadata": {
        "id": "khrL4GgISYVf",
        "colab_type": "code",
        "colab": {}
      },
      "source": [
        "a = int (input())\n",
        "b = int (input())\n",
        "c = int (input())\n",
        "d = int (input())\n",
        "if a%2 == 0 and b%2== 0 and c%2 == 0 and d%2 == 0:\n",
        "    print (\"YES\")\n",
        "elif a%2 == 0 and b%2 == 0  and c % 2 != 0 and d %2 !=0:\n",
        "    print (\"YES\")\n",
        "elif a % 2 == 0 and b % 2 !=0  and c % 2 != 0 and d %2 ==0:\n",
        "    print (\"YES\")\n",
        "elif a % 2 != 0 and b % 2 !=0  and c % 2 == 0 and d %2 ==0:\n",
        "    print (\"YES\")\n",
        "elif a % 2 != 0 and b % 2 ==0  and c % 2 == 0 and d %2 !=0:\n",
        "    print (\"YES\")\n",
        "elif a % 2 != 0 and b % 2 !=0  and c % 2 != 0 and d %2 !=0:\n",
        "    print (\"YES\")\n",
        "elif a % 2 == 0 and b % 2 ==0  and c % 2 != 0 and d %2 !=0:\n",
        "    print (\"YES\")\n",
        "elif a % 2 != 0 and b % 2 !=0  and c % 2 != 0 and d %2 ==0:\n",
        "    print (\"YES\")\n",
        "elif a % 2 == 0 and b % 2 !=0  and c % 2 == 0 and d %2 !=0:\n",
        "    print (\"YES\")\n",
        "elif a % 2 != 0 and b % 2 ==0  and c % 2 != 0 and d %2 ==0:\n",
        "    print (\"YES\")\n",
        "else:\n",
        "    print(\"NO\")\n",
        "  "
      ],
      "execution_count": 0,
      "outputs": []
    },
    {
      "cell_type": "code",
      "metadata": {
        "id": "bv_bnqv96zCW",
        "colab_type": "code",
        "colab": {}
      },
      "source": [
        "a = int(input())\n",
        "b = int(input())\n",
        "c = int(input())\n",
        "d = int(input())\n",
        "\n"
      ],
      "execution_count": 0,
      "outputs": []
    },
    {
      "cell_type": "code",
      "metadata": {
        "id": "ZSnAXbXXAWzD",
        "colab_type": "code",
        "colab": {}
      },
      "source": [
        "a = int(input())\n",
        "if a % 2 == 0:\n",
        "  print (\"ок\")\n",
        "else:\n",
        "  print (\"no\")"
      ],
      "execution_count": 0,
      "outputs": []
    },
    {
      "cell_type": "code",
      "metadata": {
        "id": "JouLrI_QdF-A",
        "colab_type": "code",
        "colab": {}
      },
      "source": [
        "N = int(input())\n",
        "count = 0 \n",
        "while count <= N:\n",
        "  count = count + 1\n",
        "  if count % 3 ==0 and count % 5 !=0 and count % 15 !=0:\n",
        "    print (\"Fizz\")\n",
        "  elif count % 5 ==0 and count % 3 !=0 and count % 15 !=0:\n",
        "    print (\"Buzz\")\n",
        "  elif count % 15 ==0:\n",
        "    print ( \"Fizz Buzz\") \n",
        "  else :\n",
        "    del (N)\n",
        "    print (count)\n",
        "      \n",
        "  \n"
      ],
      "execution_count": 0,
      "outputs": []
    },
    {
      "cell_type": "code",
      "metadata": {
        "id": "UKF9oj7RcSiR",
        "colab_type": "code",
        "colab": {}
      },
      "source": [
        ""
      ],
      "execution_count": 0,
      "outputs": []
    },
    {
      "cell_type": "code",
      "metadata": {
        "id": "6fHbteb_CYSe",
        "colab_type": "code",
        "colab": {}
      },
      "source": [
        "N = int(input())\n",
        "count = 1 \n",
        "while count <= N:\n",
        "  if N[count] % 3 == 0:\n",
        "    N.pop(count)\n",
        "  count = count + 1\n",
        "  print(count)\n",
        "  if count % 3 ==0 and count % 5 !=0 and count % 15 !=0:\n",
        "    print (\"Fizz\")\n",
        "  elif count % 5 ==0 and count % 3 !=0 and count % 15 !=0:\n",
        "    print (\"Buzz\")\n",
        "  elif count % 15 ==0:\n",
        "    print ( \"Fizz Buzz\") "
      ],
      "execution_count": 0,
      "outputs": []
    },
    {
      "cell_type": "code",
      "metadata": {
        "id": "JgEEt4ZZC3g4",
        "colab_type": "code",
        "colab": {}
      },
      "source": [
        "elements = [1, 3, 3, 6, 6]\n",
        "# Попробуем удалить каждый элемент, который делится на 3\n",
        "idx = 0\n",
        "while idx < len(elements):\n",
        "  if elements[idx] % 3 == 0:\n",
        "    elements.pop(idx)\n",
        "  idx += 1\n",
        "print(elements)"
      ],
      "execution_count": 0,
      "outputs": []
    },
    {
      "cell_type": "code",
      "metadata": {
        "id": "HTnjHd8IcU8c",
        "colab_type": "code",
        "colab": {}
      },
      "source": [
        ""
      ],
      "execution_count": 0,
      "outputs": []
    },
    {
      "cell_type": "code",
      "metadata": {
        "colab_type": "code",
        "id": "utWA2GUK49vL",
        "colab": {}
      },
      "source": [
        "elements = len(input())\n",
        "\n",
        "new_elements = []\n",
        "idx = 0\n",
        "while idx < len(elements):\n",
        "  if elements[idx] % 3 != 0:\n",
        "    new_elements.append(elements[idx])\n",
        "  idx += 1\n",
        "elements = new_elements\n",
        "\n",
        "print(elements)"
      ],
      "execution_count": 0,
      "outputs": []
    },
    {
      "cell_type": "code",
      "metadata": {
        "id": "8gCkHoOBerE-",
        "colab_type": "code",
        "colab": {}
      },
      "source": [
        "a = int (input())\n",
        "b = int (input())\n",
        "c = int (input())\n",
        "\n",
        "if a == b and a == c:\n",
        "  print (\"3\")\n",
        "elif a == b or a == c: \n",
        "  print (\"2\")\n",
        "elif a == c and a!=c:\n",
        "  print (\"2\")\n",
        "elif b == c and b!=a:\n",
        "  print (\"2\")\n",
        "else:\n",
        "     print( \"0\")\n",
        "    \n"
      ],
      "execution_count": 0,
      "outputs": []
    },
    {
      "cell_type": "code",
      "metadata": {
        "id": "dHmbiKp0gMhc",
        "colab_type": "code",
        "colab": {}
      },
      "source": [
        "a = int (input())\n",
        "b = int (input())\n",
        "c = int (input())\n",
        "d = int (input())\n",
        "\n",
        "if (a>c and b<d) or (a<c and b>d) or (a>c and b>d) or (a<c and b<d):\n",
        "  print ('YES')\n",
        "\n",
        "else:\n",
        "  print ('NO')"
      ],
      "execution_count": 0,
      "outputs": []
    },
    {
      "cell_type": "code",
      "metadata": {
        "colab_type": "code",
        "id": "UC_wYNde1KA-",
        "colab": {}
      },
      "source": [
        "x1 = int (input())\n",
        "y1 = int (input())\n",
        "x2 = int (input())\n",
        "y2 = int (input())\n",
        "\n",
        "if (x1+y1)%2 ==0 and (x2+y2)%2 ==0:\n",
        "  print ('YES')\n",
        "elif  (x1+y1)%2 !=0 and (x2+y2)%2 !=0:\n",
        "  print ('YES')\n",
        "else:\n",
        "  print ('NO')"
      ],
      "execution_count": 0,
      "outputs": []
    },
    {
      "cell_type": "code",
      "metadata": {
        "id": "Phh2KK7nMe7h",
        "colab_type": "code",
        "colab": {}
      },
      "source": [
        "x1 = int (input())\n",
        "y1 = int (input())\n",
        "x2 = int (input())\n",
        "y2 = int (input())\n",
        "if abs(x2-x1) == abs(y2-y1) :\n",
        "  print ('YES')\n",
        "else :\n",
        "  print ('NO')\n"
      ],
      "execution_count": 0,
      "outputs": []
    },
    {
      "cell_type": "code",
      "metadata": {
        "id": "tgIu-XKSQ4YD",
        "colab_type": "code",
        "colab": {}
      },
      "source": [
        "x1 = int(input())\n",
        "x2 = int(input())\n",
        "if abs(x1) ==abs (x2):\n",
        " print('YeS')\n",
        "else:\n",
        " print ('No')"
      ],
      "execution_count": 0,
      "outputs": []
    },
    {
      "cell_type": "code",
      "metadata": {
        "id": "8ulquHZOB2OS",
        "colab_type": "code",
        "colab": {}
      },
      "source": [
        ""
      ],
      "execution_count": 0,
      "outputs": []
    },
    {
      "cell_type": "code",
      "metadata": {
        "id": "wFCgyAmS_MMN",
        "colab_type": "code",
        "colab": {}
      },
      "source": [
        "x1 = int (input())\n",
        "y1 = int (input())\n",
        "x2 = int (input())\n",
        "y2 = int (input())\n",
        "\n",
        "if (abs(y2-y1) ==2 and abs(x2-x1)<2) or (abs(y2-y1) <2 and abs(x2-x1)==2):\n",
        "  print ('YES')\n",
        "else :\n",
        "  print('NO')"
      ],
      "execution_count": 0,
      "outputs": []
    },
    {
      "cell_type": "code",
      "metadata": {
        "id": "7XjRZPfAPhXE",
        "colab_type": "code",
        "colab": {}
      },
      "source": [
        "n = int(input())\n",
        "m = int(input())\n",
        "k = int(input())\n",
        "\n",
        "if k % n ==0 or k % m ==0) and n*m>=k:\n",
        "  print ('YES')\n",
        "else:\n",
        "  print('NO')"
      ],
      "execution_count": 0,
      "outputs": []
    },
    {
      "cell_type": "markdown",
      "metadata": {
        "id": "6KJf5goTtpaS",
        "colab_type": "text"
      },
      "source": [
        ""
      ]
    },
    {
      "cell_type": "code",
      "metadata": {
        "id": "DXJ2OVCItvnl",
        "colab_type": "code",
        "colab": {}
      },
      "source": [
        "N = int (input())\n",
        "M = int (input())\n",
        "x = int (input())\n",
        "y = int (input())\n",
        "if N > M:\n",
        " x2 = abs(M-x)\n",
        " y2 = abs(N-y)\n",
        "else:\n",
        "  x2 = abs(N-x)\n",
        "  y2 = abs(M-y)\n",
        "if x2<x and x2<y2 and x2<y:\n",
        "  print (x2)\n",
        "elif x<x2 and x<y2 and x<y:\n",
        "  print (x)\n",
        "elif y2<x2 and y2<x and y2<y:\n",
        "  print (y2)\n",
        "else:\n",
        "  print (y)"
      ],
      "execution_count": 0,
      "outputs": []
    },
    {
      "cell_type": "code",
      "metadata": {
        "id": "f9O7JausNs8C",
        "colab_type": "code",
        "colab": {}
      },
      "source": [
        "x = input()\n",
        "n = str(x)\n",
        "last_digital = int(n[-1])\n",
        "print (last_digital)"
      ],
      "execution_count": 0,
      "outputs": []
    },
    {
      "cell_type": "code",
      "metadata": {
        "id": "OqMZCCEQGDVo",
        "colab_type": "code",
        "colab": {}
      },
      "source": [
        "a = int(input())\n",
        "print (a%10)"
      ],
      "execution_count": 0,
      "outputs": []
    },
    {
      "cell_type": "code",
      "metadata": {
        "id": "l38RQqXCKRu4",
        "colab_type": "code",
        "colab": {}
      },
      "source": [
        "v =int(input())\n",
        "t = int (input())\n",
        "l = 109\n",
        "l2 = v*t\n",
        "n = l2//l\n",
        "l3 =l2-l*n\n",
        "print (l3)\n"
      ],
      "execution_count": 0,
      "outputs": []
    },
    {
      "cell_type": "code",
      "metadata": {
        "id": "Q6rfmNWbPdVw",
        "colab_type": "code",
        "colab": {}
      },
      "source": [
        "n = float(input())\n",
        "a = int(n)\n",
        "b = n-a\n",
        "print (b)"
      ],
      "execution_count": 0,
      "outputs": []
    },
    {
      "cell_type": "code",
      "metadata": {
        "id": "aiEwJkDxRqVx",
        "colab_type": "code",
        "colab": {}
      },
      "source": [
        "n = float(input())\n",
        "a = int(n) # округяем в сторону нуля\n",
        "b = n - a\n",
        "k =str(b)\n",
        "print(int(k[2]))"
      ],
      "execution_count": 0,
      "outputs": []
    },
    {
      "cell_type": "code",
      "metadata": {
        "id": "YqGKzZ0y8T4J",
        "colab_type": "code",
        "colab": {}
      },
      "source": [
        "n = float(input())\n",
        "k =str(n)\n",
        "print(int(k[2]))"
      ],
      "execution_count": 0,
      "outputs": []
    },
    {
      "cell_type": "code",
      "metadata": {
        "id": "qw6YTEIDA8yP",
        "colab_type": "code",
        "colab": {}
      },
      "source": [
        "x = float(input())\n",
        "print(int(x*10)%10)"
      ],
      "execution_count": 0,
      "outputs": []
    },
    {
      "cell_type": "code",
      "metadata": {
        "id": "o3rIjDp5TpZY",
        "colab_type": "code",
        "colab": {}
      },
      "source": [
        "#уроки_вычисления\n",
        "n = int(input())\n",
        "tu=45\n",
        "t1=5\n",
        "t2=15\n",
        "\n",
        "if n%2==0:\n",
        "  t3 = n/2*(tu+t1)+((n/2)-1)*(tu+t2)+tu\n",
        "  print (9+t3//60 , t3%60)\n",
        "  \n",
        "else:\n",
        "  t3 = n//2*(tu+t1)+n//2*(tu+t2)+tu\n",
        "  print (9+t3//60)\n",
        "  print (t3%60)  \n"
      ],
      "execution_count": 0,
      "outputs": []
    },
    {
      "cell_type": "code",
      "metadata": {
        "id": "C8JDbtCedXqB",
        "colab_type": "code",
        "colab": {}
      },
      "source": [
        "#автопробег_вычисления\n",
        "from math import *\n",
        "n = float (input())\n",
        "m = float (input())\n",
        "print(ceil(m/n))"
      ],
      "execution_count": 0,
      "outputs": []
    },
    {
      "cell_type": "code",
      "metadata": {
        "id": "JrCcJx4ftelB",
        "colab_type": "code",
        "colab": {}
      },
      "source": [
        "#стоимость покупки\n",
        "from math import *\n",
        "a = float(input())\n",
        "b = float(input())\n",
        "n = int (input())\n",
        "\n",
        "Sr = a+b//100\n",
        "Sk = b%100/100\n",
        "S =Sr+Sk\n",
        "K =\n",
        "print (floor(S*n),  )\n",
        " "
      ],
      "execution_count": 0,
      "outputs": []
    },
    {
      "cell_type": "code",
      "metadata": {
        "colab_type": "code",
        "id": "6zxff0uSX-GN",
        "colab": {}
      },
      "source": [
        "#стоимость покупки\n",
        "from math import *\n",
        "a = int(input())\n",
        "b = int(input())\n",
        "n = int (input())\n",
        "\n",
        "Sr = a+b//100\n",
        "Sk = b%100\n",
        "\n",
        "print (Sr*n, (Sk*n)%100)\n",
        " "
      ],
      "execution_count": 0,
      "outputs": []
    },
    {
      "cell_type": "code",
      "metadata": {
        "colab_type": "code",
        "id": "0PpWYVPHYYpN",
        "colab": {}
      },
      "source": [
        "#стоимость покупки\n",
        "from math import *\n",
        "a = float(input())\n",
        "b = float(input())\n",
        "n = int (input())\n",
        "\n",
        "Sr = a+b//100\n",
        "Sk = b%100/100\n",
        "S =Sr+Sk\n",
        "\n",
        "print (floor(S*n), S*n*100-  )\n",
        " "
      ],
      "execution_count": 0,
      "outputs": []
    },
    {
      "cell_type": "code",
      "metadata": {
        "id": "9RG3uK0RFg0Y",
        "colab_type": "code",
        "colab": {}
      },
      "source": [
        "#разность времен\n",
        "t1 =int(input())\n",
        "t2 =int(input())\n",
        "t3 = int(input())\n",
        "t12=int (input())\n",
        "t23= int(input())\n",
        "t33=int(input())\n",
        "\n",
        "x = (t1*3600-t12*3600)\n",
        "y = (t2*60-t23*60)\n",
        "z = (t3-t33)\n",
        "\n",
        "print (abs(x+y+z))\n"
      ],
      "execution_count": 0,
      "outputs": []
    },
    {
      "cell_type": "code",
      "metadata": {
        "id": "AvTxbaqCkLD8",
        "colab_type": "code",
        "colab": {}
      },
      "source": [
        "h = int(input())\n",
        "a = int(input())\n",
        "b = int(input())\n",
        "\n",
        "k = h/((a-b)+a)"
      ],
      "execution_count": 0,
      "outputs": []
    },
    {
      "cell_type": "code",
      "metadata": {
        "id": "zxS1mO3uHKfK",
        "colab_type": "code",
        "colab": {}
      },
      "source": [
        "#сумма десяти чисел\n",
        "from math import *\n",
        "a = int(input())\n",
        "b = int(input())\n",
        "c = int(input())\n",
        "d = int(input())\n",
        "e = int(input())\n",
        "f = int(input())\n",
        "g = int(input())\n",
        "h = int(input())\n",
        "k = int(input())\n",
        "l = int(input())\n",
        "\n",
        "  #for i in a,b,c,d,e,f,g,h,k,l:\n",
        "print( a+b+c+d+e+f+g+h+k+l )\n",
        "  #print(i)"
      ],
      "execution_count": 0,
      "outputs": []
    },
    {
      "cell_type": "code",
      "metadata": {
        "id": "Xu5ttYmGUoB1",
        "colab_type": "code",
        "colab": {}
      },
      "source": [
        "# сумма десяти\n",
        "sum = int(0) # считаем от 0\n",
        "for i in range(0,10): # в промежутке 0,10, т.е. должны ввести 10 чисел\n",
        "  a =int(input()) #число которое вводим\n",
        "  sum +=a # sum = sum+a\n",
        "print(sum)"
      ],
      "execution_count": 0,
      "outputs": []
    },
    {
      "cell_type": "code",
      "metadata": {
        "id": "KS8wvDJhCnnv",
        "colab_type": "code",
        "colab": {}
      },
      "source": [
        "#сумма N чисел\n",
        "N = int(input()) # задаемколичество чисел\n",
        "sum = int(0) #отсчет ведем от нуля\n",
        "for i in range (0,N): #цикл for в промежутке 0,N\n",
        "  a =int(input()) #вводим числа в количестве N\n",
        "  sum = sum+a # суммируем между собой\n",
        "print(sum)"
      ],
      "execution_count": 0,
      "outputs": []
    },
    {
      "cell_type": "code",
      "metadata": {
        "id": "eavSofAhBvOF",
        "colab_type": "code",
        "colab": {}
      },
      "source": [
        "# сумма кубов\n",
        "from  math import *\n",
        "N = int(input())\n",
        "sum =int(0)\n",
        "for i in range(0,N+1):\n",
        "  sum +=i**3 # с каждым циклом складываются все значения увеличинные на 1 и возведенные в квадрат\n",
        "print(sum)\n"
      ],
      "execution_count": 0,
      "outputs": []
    },
    {
      "cell_type": "code",
      "metadata": {
        "id": "4zGqk7K0fYlR",
        "colab_type": "code",
        "colab": {}
      },
      "source": [
        "#факториал\n",
        "n = int(input())\n",
        "f = int(1)\n",
        "for i in range (0+1,n+1):\n",
        "  \n",
        "  f = f*i\n",
        "print(f)"
      ],
      "execution_count": 0,
      "outputs": []
    },
    {
      "cell_type": "code",
      "metadata": {
        "id": "QPhy2813Z8vX",
        "colab_type": "code",
        "colab": {}
      },
      "source": [
        "#сумма факториалов\n",
        "n = int(input())\n",
        "f = int(1)\n",
        "s = int(0)\n",
        "for i in range (1, n+1 ):\n",
        "  \n",
        "    f=f*i #вычисляем факториал\n",
        "    s=s+f #суммируем  с нулевого значения\n",
        "     \n",
        "print(s)"
      ],
      "execution_count": 0,
      "outputs": []
    },
    {
      "cell_type": "code",
      "metadata": {
        "id": "y-WiedkN3h-l",
        "colab_type": "code",
        "colab": {}
      },
      "source": [
        "#Задача количество нулей\n",
        "N = int(input())\n",
        "s=int(0)\n",
        "for i  in range (0+1, N+1): #задаем промежуток , N чисел\n",
        "  a = int(input())  #вводим числа\n",
        "  if a==0:          # если а равняется нулю, присваиваем  i = 1\n",
        "    i=1\n",
        "    s=s+i           #суммируем\n",
        "print(s)            #внимание на отступы, для правильности расчета!!!\n"
      ],
      "execution_count": 0,
      "outputs": []
    },
    {
      "cell_type": "code",
      "metadata": {
        "id": "h5F0pjib49g5",
        "colab_type": "code",
        "colab": {}
      },
      "source": [
        ""
      ],
      "execution_count": 0,
      "outputs": []
    },
    {
      "cell_type": "code",
      "metadata": {
        "id": "EkDZyr9iBqnM",
        "colab_type": "code",
        "colab": {}
      },
      "source": [
        "#Лесенка\n",
        "n = int(input())\n",
        "for i in range (1, n+1): #внешний цикл от 1 до n, т.е. количество ступенек\n",
        "  for j in range (1, n+1): #вложенный цикл печатает строчку 1 до n\n",
        "    print(j, sep='', end = '')\n",
        "  print('')      # при прохождении цикла перескакиваем на следующую строчку\n",
        "\n",
        "  \n"
      ],
      "execution_count": 0,
      "outputs": []
    },
    {
      "cell_type": "code",
      "metadata": {
        "colab_type": "code",
        "id": "Ra3w-Gz7Sv_z",
        "colab": {}
      },
      "source": [
        "#потерянная карточка\n",
        "N = int(input())       #вводим количество карточек\n",
        "s = int(0)\n",
        "for i in range (1, N+1): # считаем арифметическую проггрессию\n",
        "    s+=i\n",
        "for i in range (1, N):\n",
        "     s-= int(input())  #вычитаем из арифметической прогрессии сумму за минусом одной карточки\n",
        "print(s)\n",
        "    \n"
      ],
      "execution_count": 0,
      "outputs": []
    },
    {
      "cell_type": "code",
      "metadata": {
        "id": "W9iv-D0_cKBw",
        "colab_type": "code",
        "colab": {}
      },
      "source": [
        "N=int(input())\n",
        "x=int(0)\n",
        "for i in range(1,N):\n",
        " a = int(input())\n",
        " x=x+i\n",
        "print(x)"
      ],
      "execution_count": 0,
      "outputs": []
    },
    {
      "cell_type": "code",
      "metadata": {
        "id": "DXDlM1uaMlhx",
        "colab_type": "code",
        "colab": {}
      },
      "source": [
        "N= int(input())\n",
        "s=int(0)\n",
        "for i in range(1,N+1):\n",
        " s+=i\n",
        " print(s)\n"
      ],
      "execution_count": 0,
      "outputs": []
    }
  ]
}