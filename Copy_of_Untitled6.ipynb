{
  "nbformat": 4,
  "nbformat_minor": 0,
  "metadata": {
    "colab": {
      "name": "Copy of Untitled6.ipynb",
      "provenance": [],
      "collapsed_sections": [],
      "authorship_tag": "ABX9TyPrTqGapV/oAZ/hbxZn1Zex",
      "include_colab_link": true
    },
    "kernelspec": {
      "name": "python3",
      "display_name": "Python 3"
    }
  },
  "cells": [
    {
      "cell_type": "markdown",
      "metadata": {
        "id": "view-in-github",
        "colab_type": "text"
      },
      "source": [
        "<a href=\"https://colab.research.google.com/github/sergeystarsky/Python/blob/master/Copy_of_Untitled6.ipynb\" target=\"_parent\"><img src=\"https://colab.research.google.com/assets/colab-badge.svg\" alt=\"Open In Colab\"/></a>"
      ]
    },
    {
      "cell_type": "code",
      "metadata": {
        "id": "bYTMKAY_6kcv",
        "colab_type": "code",
        "colab": {}
      },
      "source": [
        ""
      ],
      "execution_count": 0,
      "outputs": []
    },
    {
      "cell_type": "code",
      "metadata": {
        "id": "46O_bCEbiZYa",
        "colab_type": "code",
        "outputId": "90081296-a17f-4fcc-9d8d-f4da00cc9582",
        "colab": {
          "base_uri": "https://localhost:8080/",
          "height": 85
        }
      },
      "source": [
        "#контест 1 / простой калькулятор  \n",
        "N= int(input())\n",
        "Op= input( )\n",
        "M= int(input())\n",
        "if Op == '+':\n",
        " print (N+M)\n",
        "elif Op=='-':\n",
        "  print(N-M)\n",
        "elif Op== '*':\n",
        "  print(N*M)\n",
        "elif Op =='//' and M ==0 :\n",
        "  print('Error')\n",
        "elif Op == '//' :\n",
        "  print(N//M)\n"
      ],
      "execution_count": 0,
      "outputs": [
        {
          "output_type": "stream",
          "text": [
            "6\n",
            "//\n",
            "0\n",
            "Error\n"
          ],
          "name": "stdout"
        }
      ]
    },
    {
      "cell_type": "code",
      "metadata": {
        "id": "8kFNt6TWHQSk",
        "colab_type": "code",
        "outputId": "37b2ae21-5776-49d9-8f21-ea8cebc72271",
        "colab": {
          "base_uri": "https://localhost:8080/",
          "height": 51
        }
      },
      "source": [
        "#контест 1/ Дробная часть\n",
        "from math import *\n",
        "x= float(input())\n",
        "d = x - floor(x)\n",
        "print (abs(d))\n"
      ],
      "execution_count": 0,
      "outputs": [
        {
          "output_type": "stream",
          "text": [
            "3.15\n",
            "0.1499999999999999\n"
          ],
          "name": "stdout"
        }
      ]
    },
    {
      "cell_type": "code",
      "metadata": {
        "id": "vBhn-sh0JBna",
        "colab_type": "code",
        "outputId": "a93eede7-08a1-4f56-8ba5-236d027b0e9d",
        "colab": {
          "base_uri": "https://localhost:8080/",
          "height": 119
        }
      },
      "source": [
        "N =int(input())\n",
        "a= int(0)\n",
        "for i in range (1, N+1):\n",
        "  a=int(input())\n",
        "  s=a*2\n",
        "  if a==0:\n",
        "   break\n",
        "  else:\n",
        "    print(s)\n",
        "  "
      ],
      "execution_count": 0,
      "outputs": [
        {
          "output_type": "stream",
          "text": [
            "5\n",
            "1\n",
            "2\n",
            "2\n",
            "4\n",
            "0\n"
          ],
          "name": "stdout"
        }
      ]
    },
    {
      "cell_type": "code",
      "metadata": {
        "id": "9gOWAshZEbnF",
        "colab_type": "code",
        "outputId": "85ddeafc-0d93-43b8-d868-48c1747f8cd1",
        "colab": {
          "base_uri": "https://localhost:8080/",
          "height": 102
        }
      },
      "source": [
        "#контест 1/ Расчет стоимости\n",
        "p1 =int(input())\n",
        "k1=int(input())\n",
        "p2=int(input())\n",
        "k2=int(input())\n",
        "\n",
        "k3 =k1+k2\n",
        "p3=k3//100\n",
        "k4=k3-p3*100\n",
        "print(p1+p2+p3, k4)\n",
        "  "
      ],
      "execution_count": 0,
      "outputs": [
        {
          "output_type": "stream",
          "text": [
            "1\n",
            "50\n",
            "2\n",
            "53\n",
            "4 3\n"
          ],
          "name": "stdout"
        }
      ]
    },
    {
      "cell_type": "code",
      "metadata": {
        "id": "dszHFvqQKIcB",
        "colab_type": "code",
        "outputId": "9b21d756-c97f-4938-9de2-c18abf87d60e",
        "colab": {
          "base_uri": "https://localhost:8080/",
          "height": 85
        }
      },
      "source": [
        "#контест1/Магазин\n",
        "N = int(input())\n",
        "M = int(input())\n",
        "K = int(input())\n",
        "\n",
        "if N<=K<=M-1 :\n",
        "  print('True')\n",
        "\n",
        "else:\n",
        "    print('False')\n",
        "  "
      ],
      "execution_count": 0,
      "outputs": [
        {
          "output_type": "stream",
          "text": [
            "1\n",
            "5\n",
            "3\n",
            "True\n"
          ],
          "name": "stdout"
        }
      ]
    },
    {
      "cell_type": "code",
      "metadata": {
        "id": "0oeFOJ4GN2pW",
        "colab_type": "code",
        "colab": {}
      },
      "source": [
        "#контест1/Подсчет наименьших элементов\n",
        "a=int(input())\n",
        "\n"
      ],
      "execution_count": 0,
      "outputs": []
    }
  ]
}